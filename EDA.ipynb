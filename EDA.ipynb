{
 "cells": [
  {
   "cell_type": "markdown",
   "metadata": {},
   "source": [
    "# PwC Challenge Data Scientist Jr"
   ]
  },
  {
   "cell_type": "markdown",
   "metadata": {},
   "source": [
    "## Table of Contents\n",
    "- [Exploration](#exploration)\n",
    "- [Data Cleaning](#data-cleaning)\n",
    "    1. [Duplicates](#1--duplicates)\n",
    "    2. [Treating NaNs](#2--treating-nans)\n",
    "    3. [Checking NaNs](#3--checking-nans)\n",
    "    4. [Outliers](#4--outliers)\n",
    "- [Exporting Data Transformed](#exporting-the-data-transformed)\n",
    "- [Visualization & Correlation](#visualization--correlation)\n",
    "    * [Relationships](#relationships-between-features-and-target-variable)\n",
    "\n",
    "<b>The goal of this analysis is to identify patterns, detect potential issues (NaNs, duplicates, outliers, high correlations), and gain insights that will help guide further data preprocessing and modeling steps.</b>\n"
   ]
  },
  {
   "cell_type": "markdown",
   "metadata": {},
   "source": [
    "<hr></hr>\n",
    "\n",
    "## Exploration"
   ]
  },
  {
   "cell_type": "code",
   "execution_count": 1,
   "metadata": {},
   "outputs": [],
   "source": [
    "import pandas as pd\n",
    "import numpy as np\n",
    "\n",
    "import seaborn as sns\n",
    "import matplotlib.pyplot as plt"
   ]
  },
  {
   "cell_type": "code",
   "execution_count": 2,
   "metadata": {},
   "outputs": [],
   "source": [
    "descriptions_df = pd.read_csv(\"data/descriptions.csv\")\n",
    "people_df = pd.read_csv(\"data/people.csv\")\n",
    "salary_df = pd.read_csv(\"data/salary.csv\")\n"
   ]
  },
  {
   "cell_type": "code",
   "execution_count": 3,
   "metadata": {},
   "outputs": [
    {
     "data": {
      "text/html": [
       "<div>\n",
       "<style scoped>\n",
       "    .dataframe tbody tr th:only-of-type {\n",
       "        vertical-align: middle;\n",
       "    }\n",
       "\n",
       "    .dataframe tbody tr th {\n",
       "        vertical-align: top;\n",
       "    }\n",
       "\n",
       "    .dataframe thead th {\n",
       "        text-align: right;\n",
       "    }\n",
       "</style>\n",
       "<table border=\"1\" class=\"dataframe\">\n",
       "  <thead>\n",
       "    <tr style=\"text-align: right;\">\n",
       "      <th></th>\n",
       "      <th>id</th>\n",
       "      <th>Description</th>\n",
       "    </tr>\n",
       "  </thead>\n",
       "  <tbody>\n",
       "    <tr>\n",
       "      <th>0</th>\n",
       "      <td>0</td>\n",
       "      <td>I am a 32-year-old male working as a Software ...</td>\n",
       "    </tr>\n",
       "    <tr>\n",
       "      <th>1</th>\n",
       "      <td>1</td>\n",
       "      <td>I am a 28-year-old data analyst with a Master'...</td>\n",
       "    </tr>\n",
       "    <tr>\n",
       "      <th>2</th>\n",
       "      <td>2</td>\n",
       "      <td>I am a 45-year-old Senior Manager with a PhD a...</td>\n",
       "    </tr>\n",
       "    <tr>\n",
       "      <th>3</th>\n",
       "      <td>3</td>\n",
       "      <td>I am a 36-year-old female Sales Associate with...</td>\n",
       "    </tr>\n",
       "    <tr>\n",
       "      <th>4</th>\n",
       "      <td>4</td>\n",
       "      <td>I am a 52-year-old male with over two decades ...</td>\n",
       "    </tr>\n",
       "    <tr>\n",
       "      <th>5</th>\n",
       "      <td>5</td>\n",
       "      <td>I am a 29-year-old Marketing Analyst with a Ba...</td>\n",
       "    </tr>\n",
       "    <tr>\n",
       "      <th>6</th>\n",
       "      <td>6</td>\n",
       "      <td>I am a 42-year-old female with a Master's degr...</td>\n",
       "    </tr>\n",
       "    <tr>\n",
       "      <th>7</th>\n",
       "      <td>7</td>\n",
       "      <td>I am a 31-year-old Sales Manager with a Bachel...</td>\n",
       "    </tr>\n",
       "    <tr>\n",
       "      <th>8</th>\n",
       "      <td>8</td>\n",
       "      <td>I am a 26-year-old female Marketing Coordinato...</td>\n",
       "    </tr>\n",
       "    <tr>\n",
       "      <th>9</th>\n",
       "      <td>9</td>\n",
       "      <td>I am a 38-year-old Senior Scientist with a PhD...</td>\n",
       "    </tr>\n",
       "  </tbody>\n",
       "</table>\n",
       "</div>"
      ],
      "text/plain": [
       "   id                                        Description\n",
       "0   0  I am a 32-year-old male working as a Software ...\n",
       "1   1  I am a 28-year-old data analyst with a Master'...\n",
       "2   2  I am a 45-year-old Senior Manager with a PhD a...\n",
       "3   3  I am a 36-year-old female Sales Associate with...\n",
       "4   4  I am a 52-year-old male with over two decades ...\n",
       "5   5  I am a 29-year-old Marketing Analyst with a Ba...\n",
       "6   6  I am a 42-year-old female with a Master's degr...\n",
       "7   7  I am a 31-year-old Sales Manager with a Bachel...\n",
       "8   8  I am a 26-year-old female Marketing Coordinato...\n",
       "9   9  I am a 38-year-old Senior Scientist with a PhD..."
      ]
     },
     "execution_count": 3,
     "metadata": {},
     "output_type": "execute_result"
    }
   ],
   "source": [
    "descriptions_df.head(10)"
   ]
  },
  {
   "cell_type": "code",
   "execution_count": 4,
   "metadata": {},
   "outputs": [
    {
     "data": {
      "text/html": [
       "<div>\n",
       "<style scoped>\n",
       "    .dataframe tbody tr th:only-of-type {\n",
       "        vertical-align: middle;\n",
       "    }\n",
       "\n",
       "    .dataframe tbody tr th {\n",
       "        vertical-align: top;\n",
       "    }\n",
       "\n",
       "    .dataframe thead th {\n",
       "        text-align: right;\n",
       "    }\n",
       "</style>\n",
       "<table border=\"1\" class=\"dataframe\">\n",
       "  <thead>\n",
       "    <tr style=\"text-align: right;\">\n",
       "      <th></th>\n",
       "      <th>id</th>\n",
       "      <th>Age</th>\n",
       "      <th>Gender</th>\n",
       "      <th>Education Level</th>\n",
       "      <th>Job Title</th>\n",
       "      <th>Years of Experience</th>\n",
       "    </tr>\n",
       "  </thead>\n",
       "  <tbody>\n",
       "    <tr>\n",
       "      <th>0</th>\n",
       "      <td>0</td>\n",
       "      <td>32.0</td>\n",
       "      <td>Male</td>\n",
       "      <td>Bachelor's</td>\n",
       "      <td>Software Engineer</td>\n",
       "      <td>5.0</td>\n",
       "    </tr>\n",
       "    <tr>\n",
       "      <th>1</th>\n",
       "      <td>1</td>\n",
       "      <td>28.0</td>\n",
       "      <td>Female</td>\n",
       "      <td>Master's</td>\n",
       "      <td>Data Analyst</td>\n",
       "      <td>3.0</td>\n",
       "    </tr>\n",
       "    <tr>\n",
       "      <th>2</th>\n",
       "      <td>2</td>\n",
       "      <td>45.0</td>\n",
       "      <td>Male</td>\n",
       "      <td>PhD</td>\n",
       "      <td>Senior Manager</td>\n",
       "      <td>15.0</td>\n",
       "    </tr>\n",
       "    <tr>\n",
       "      <th>3</th>\n",
       "      <td>3</td>\n",
       "      <td>36.0</td>\n",
       "      <td>Female</td>\n",
       "      <td>Bachelor's</td>\n",
       "      <td>Sales Associate</td>\n",
       "      <td>7.0</td>\n",
       "    </tr>\n",
       "    <tr>\n",
       "      <th>4</th>\n",
       "      <td>4</td>\n",
       "      <td>52.0</td>\n",
       "      <td>Male</td>\n",
       "      <td>Master's</td>\n",
       "      <td>Director</td>\n",
       "      <td>20.0</td>\n",
       "    </tr>\n",
       "    <tr>\n",
       "      <th>5</th>\n",
       "      <td>5</td>\n",
       "      <td>29.0</td>\n",
       "      <td>Male</td>\n",
       "      <td>Bachelor's</td>\n",
       "      <td>Marketing Analyst</td>\n",
       "      <td>2.0</td>\n",
       "    </tr>\n",
       "    <tr>\n",
       "      <th>6</th>\n",
       "      <td>6</td>\n",
       "      <td>42.0</td>\n",
       "      <td>Female</td>\n",
       "      <td>Master's</td>\n",
       "      <td>Product Manager</td>\n",
       "      <td>12.0</td>\n",
       "    </tr>\n",
       "    <tr>\n",
       "      <th>7</th>\n",
       "      <td>7</td>\n",
       "      <td>31.0</td>\n",
       "      <td>Male</td>\n",
       "      <td>Bachelor's</td>\n",
       "      <td>Sales Manager</td>\n",
       "      <td>4.0</td>\n",
       "    </tr>\n",
       "    <tr>\n",
       "      <th>8</th>\n",
       "      <td>8</td>\n",
       "      <td>26.0</td>\n",
       "      <td>Female</td>\n",
       "      <td>Bachelor's</td>\n",
       "      <td>Marketing Coordinator</td>\n",
       "      <td>1.0</td>\n",
       "    </tr>\n",
       "    <tr>\n",
       "      <th>9</th>\n",
       "      <td>9</td>\n",
       "      <td>38.0</td>\n",
       "      <td>Male</td>\n",
       "      <td>PhD</td>\n",
       "      <td>Senior Scientist</td>\n",
       "      <td>10.0</td>\n",
       "    </tr>\n",
       "  </tbody>\n",
       "</table>\n",
       "</div>"
      ],
      "text/plain": [
       "   id   Age  Gender Education Level              Job Title  \\\n",
       "0   0  32.0    Male      Bachelor's      Software Engineer   \n",
       "1   1  28.0  Female        Master's           Data Analyst   \n",
       "2   2  45.0    Male             PhD         Senior Manager   \n",
       "3   3  36.0  Female      Bachelor's        Sales Associate   \n",
       "4   4  52.0    Male        Master's               Director   \n",
       "5   5  29.0    Male      Bachelor's      Marketing Analyst   \n",
       "6   6  42.0  Female        Master's        Product Manager   \n",
       "7   7  31.0    Male      Bachelor's          Sales Manager   \n",
       "8   8  26.0  Female      Bachelor's  Marketing Coordinator   \n",
       "9   9  38.0    Male             PhD       Senior Scientist   \n",
       "\n",
       "   Years of Experience  \n",
       "0                  5.0  \n",
       "1                  3.0  \n",
       "2                 15.0  \n",
       "3                  7.0  \n",
       "4                 20.0  \n",
       "5                  2.0  \n",
       "6                 12.0  \n",
       "7                  4.0  \n",
       "8                  1.0  \n",
       "9                 10.0  "
      ]
     },
     "execution_count": 4,
     "metadata": {},
     "output_type": "execute_result"
    }
   ],
   "source": [
    "people_df.head(10)"
   ]
  },
  {
   "cell_type": "code",
   "execution_count": 5,
   "metadata": {},
   "outputs": [
    {
     "data": {
      "text/html": [
       "<div>\n",
       "<style scoped>\n",
       "    .dataframe tbody tr th:only-of-type {\n",
       "        vertical-align: middle;\n",
       "    }\n",
       "\n",
       "    .dataframe tbody tr th {\n",
       "        vertical-align: top;\n",
       "    }\n",
       "\n",
       "    .dataframe thead th {\n",
       "        text-align: right;\n",
       "    }\n",
       "</style>\n",
       "<table border=\"1\" class=\"dataframe\">\n",
       "  <thead>\n",
       "    <tr style=\"text-align: right;\">\n",
       "      <th></th>\n",
       "      <th>id</th>\n",
       "      <th>Salary</th>\n",
       "    </tr>\n",
       "  </thead>\n",
       "  <tbody>\n",
       "    <tr>\n",
       "      <th>0</th>\n",
       "      <td>0</td>\n",
       "      <td>90000.0</td>\n",
       "    </tr>\n",
       "    <tr>\n",
       "      <th>1</th>\n",
       "      <td>1</td>\n",
       "      <td>65000.0</td>\n",
       "    </tr>\n",
       "    <tr>\n",
       "      <th>2</th>\n",
       "      <td>2</td>\n",
       "      <td>150000.0</td>\n",
       "    </tr>\n",
       "    <tr>\n",
       "      <th>3</th>\n",
       "      <td>3</td>\n",
       "      <td>60000.0</td>\n",
       "    </tr>\n",
       "    <tr>\n",
       "      <th>4</th>\n",
       "      <td>4</td>\n",
       "      <td>200000.0</td>\n",
       "    </tr>\n",
       "    <tr>\n",
       "      <th>5</th>\n",
       "      <td>5</td>\n",
       "      <td>55000.0</td>\n",
       "    </tr>\n",
       "    <tr>\n",
       "      <th>6</th>\n",
       "      <td>6</td>\n",
       "      <td>120000.0</td>\n",
       "    </tr>\n",
       "    <tr>\n",
       "      <th>7</th>\n",
       "      <td>7</td>\n",
       "      <td>80000.0</td>\n",
       "    </tr>\n",
       "    <tr>\n",
       "      <th>8</th>\n",
       "      <td>8</td>\n",
       "      <td>45000.0</td>\n",
       "    </tr>\n",
       "    <tr>\n",
       "      <th>9</th>\n",
       "      <td>9</td>\n",
       "      <td>110000.0</td>\n",
       "    </tr>\n",
       "  </tbody>\n",
       "</table>\n",
       "</div>"
      ],
      "text/plain": [
       "   id    Salary\n",
       "0   0   90000.0\n",
       "1   1   65000.0\n",
       "2   2  150000.0\n",
       "3   3   60000.0\n",
       "4   4  200000.0\n",
       "5   5   55000.0\n",
       "6   6  120000.0\n",
       "7   7   80000.0\n",
       "8   8   45000.0\n",
       "9   9  110000.0"
      ]
     },
     "execution_count": 5,
     "metadata": {},
     "output_type": "execute_result"
    }
   ],
   "source": [
    "salary_df.head(10)"
   ]
  },
  {
   "cell_type": "code",
   "execution_count": 6,
   "metadata": {},
   "outputs": [
    {
     "name": "stdout",
     "output_type": "stream",
     "text": [
      "(375, 2)\n",
      "id             0\n",
      "Description    3\n",
      "dtype: int64\n"
     ]
    }
   ],
   "source": [
    "print(descriptions_df.shape)\n",
    "print(descriptions_df.isnull().sum())\n"
   ]
  },
  {
   "cell_type": "code",
   "execution_count": 7,
   "metadata": {},
   "outputs": [
    {
     "name": "stdout",
     "output_type": "stream",
     "text": [
      "(375, 6)\n",
      "id                     0\n",
      "Age                    5\n",
      "Gender                 5\n",
      "Education Level        5\n",
      "Job Title              5\n",
      "Years of Experience    2\n",
      "dtype: int64\n"
     ]
    }
   ],
   "source": [
    "print(people_df.shape)\n",
    "print(people_df.isnull().sum())"
   ]
  },
  {
   "cell_type": "code",
   "execution_count": 8,
   "metadata": {},
   "outputs": [
    {
     "name": "stdout",
     "output_type": "stream",
     "text": [
      "La columna 'Job Title' tiene 173 categorías únicas.\n"
     ]
    }
   ],
   "source": [
    "num_categorias = people_df['Job Title'].nunique()\n",
    "print(f\"La columna 'Job Title' tiene {num_categorias} categorías únicas.\")"
   ]
  },
  {
   "cell_type": "code",
   "execution_count": 9,
   "metadata": {},
   "outputs": [
    {
     "name": "stdout",
     "output_type": "stream",
     "text": [
      "['Software Engineer', 'Data Analyst', 'Senior Manager', 'Sales Associate', 'Director', 'Marketing Analyst', 'Product Manager', 'Sales Manager', 'Marketing Coordinator', 'Senior Scientist', 'Software Developer', 'HR Manager', 'Financial Analyst', 'Project Manager', 'Customer Service Rep', 'Operations Manager', 'Marketing Manager', 'Senior Engineer', 'Data Entry Clerk', 'Sales Director', 'Business Analyst', 'VP of Operations', 'IT Support', 'Recruiter', 'Financial Manager', 'Social Media Specialist', 'Software Manager', 'Junior Developer', 'Senior Consultant', 'Product Designer', 'CEO', 'Accountant', 'Data Scientist', 'Marketing Specialist', 'Technical Writer', 'HR Generalist', 'Project Engineer', 'Customer Success Rep', 'Sales Executive', 'UX Designer', 'Operations Director', 'Network Engineer', 'Administrative Assistant', 'Strategy Consultant', 'Copywriter', 'Account Manager', 'Director of Marketing', 'Help Desk Analyst', 'Customer Service Manager', nan, 'Event Coordinator', 'VP of Finance', 'Graphic Designer', 'UX Researcher', 'Social Media Manager', 'Senior Data Scientist', 'Junior Accountant', 'Digital Marketing Manager', 'IT Manager', 'Customer Service Representative', 'Business Development Manager', 'Senior Financial Analyst', 'Web Developer', 'Research Director', 'Technical Support Specialist', 'Creative Director', 'Senior Software Engineer', 'Human Resources Director', 'Content Marketing Manager', 'Technical Recruiter', 'Sales Representative', 'Chief Technology Officer', 'Junior Designer', 'Financial Advisor', 'Junior Account Manager', 'Senior Project Manager', 'Principal Scientist', 'Supply Chain Manager', 'Senior Marketing Manager', 'Training Specialist', 'Research Scientist', 'Junior Software Developer', 'Public Relations Manager', 'Operations Analyst', 'Product Marketing Manager', 'Senior HR Manager', 'Junior Web Developer', 'Senior Project Coordinator', 'Chief Data Officer', 'Digital Content Producer', 'IT Support Specialist', 'Senior Marketing Analyst', 'Customer Success Manager', 'Senior Graphic Designer', 'Software Project Manager', 'Supply Chain Analyst', 'Senior Business Analyst', 'Junior Marketing Analyst', 'Office Manager', 'Principal Engineer', 'Junior HR Generalist', 'Senior Product Manager', 'Junior Operations Analyst', 'Senior HR Generalist', 'Sales Operations Manager', 'Senior Software Developer', 'Director of Operations', 'Junior Web Designer', 'Senior Training Specialist', 'Senior Research Scientist', 'Junior Sales Representative', 'Junior Marketing Manager', 'Junior Data Analyst', 'Senior Product Marketing Manager', 'Junior Business Analyst', 'Senior Sales Manager', 'Junior Marketing Specialist', 'Junior Project Manager', 'Senior Accountant', 'Director of Sales', 'Junior Recruiter', 'Senior Business Development Manager', 'Senior Product Designer', 'Junior Customer Support Specialist', 'Senior IT Support Specialist', 'Junior Financial Analyst', 'Senior Operations Manager', 'Director of Human Resources', 'Junior Software Engineer', 'Senior Sales Representative', 'Director of Product Management', 'Junior Copywriter', 'Senior Marketing Coordinator', 'Senior Human Resources Manager', 'Junior Business Development Associate', 'Senior Account Manager', 'Senior Researcher', 'Junior HR Coordinator', 'Director of Finance', 'Junior Marketing Coordinator', 'Junior Data Scientist', 'Senior Operations Analyst', 'Senior Human Resources Coordinator', 'Senior UX Designer', 'Junior Product Manager', 'Senior Marketing Specialist', 'Senior IT Project Manager', 'Senior Quality Assurance Analyst', 'Director of Sales and Marketing', 'Senior Account Executive', 'Director of Business Development', 'Junior Social Media Manager', 'Senior Human Resources Specialist', 'Senior Data Analyst', 'Director of Human Capital', 'Junior Advertising Coordinator', 'Junior UX Designer', 'Senior Marketing Director', 'Senior IT Consultant', 'Senior Financial Advisor', 'Junior Business Operations Analyst', 'Junior Social Media Specialist', 'Senior Product Development Manager', 'Junior Operations Manager', 'Senior Software Architect', 'Junior Research Scientist', 'Senior Financial Manager', 'Senior HR Specialist', 'Senior Data Engineer', 'Junior Operations Coordinator', 'Director of HR', 'Senior Operations Coordinator', 'Junior Financial Advisor', 'Director of Engineering']\n"
     ]
    }
   ],
   "source": [
    "if 'Job Title' in people_df.columns:\n",
    "    categories = people_df['Job Title'].unique().tolist()\n",
    "    print(categories) \n"
   ]
  },
  {
   "cell_type": "code",
   "execution_count": 10,
   "metadata": {},
   "outputs": [
    {
     "name": "stdout",
     "output_type": "stream",
     "text": [
      "(375, 2)\n",
      "id        0\n",
      "Salary    2\n",
      "dtype: int64\n"
     ]
    }
   ],
   "source": [
    "print(salary_df.shape)\n",
    "print(salary_df.isnull().sum())"
   ]
  },
  {
   "cell_type": "markdown",
   "metadata": {},
   "source": [
    "<hr></hr>\n",
    "\n",
    "## Data Cleaning\n",
    "\n",
    "### 1- Duplicates"
   ]
  },
  {
   "cell_type": "code",
   "execution_count": 11,
   "metadata": {},
   "outputs": [
    {
     "name": "stdout",
     "output_type": "stream",
     "text": [
      "Number of persons duplicated: 49\n"
     ]
    }
   ],
   "source": [
    "duplicate_people = people_df.duplicated(subset=people_df.columns.difference([\"id\"]))\n",
    "num_duplicates = duplicate_people.sum()\n",
    "print(f\"Number of persons duplicated: {num_duplicates}\")"
   ]
  },
  {
   "cell_type": "code",
   "execution_count": 12,
   "metadata": {},
   "outputs": [
    {
     "name": "stdout",
     "output_type": "stream",
     "text": [
      "Number of descriptions duplicated: 2\n"
     ]
    }
   ],
   "source": [
    "duplicates_desc = descriptions_df.duplicated(subset=descriptions_df.columns.difference([\"id\"]))\n",
    "num_duplicates = duplicates_desc.sum()\n",
    "print(f\"Number of descriptions duplicated: {num_duplicates}\")\n",
    "\n"
   ]
  },
  {
   "cell_type": "code",
   "execution_count": 13,
   "metadata": {},
   "outputs": [
    {
     "name": "stdout",
     "output_type": "stream",
     "text": [
      "Detected as duplicated: \n",
      "      id Description\n",
      "125  125         NaN\n",
      "177  177         NaN\n",
      "Detected as NaN: \n",
      "      id Description\n",
      "111  111         NaN\n",
      "125  125         NaN\n",
      "177  177         NaN\n"
     ]
    }
   ],
   "source": [
    "print(\"Detected as duplicated: \")\n",
    "print(descriptions_df[duplicates_desc])\n",
    "\n",
    "print(\"Detected as NaN: \")\n",
    "print(descriptions_df[descriptions_df['Description'].isnull()])"
   ]
  },
  {
   "cell_type": "code",
   "execution_count": 14,
   "metadata": {},
   "outputs": [
    {
     "name": "stdout",
     "output_type": "stream",
     "text": [
      "IDs with NaN values: [111, 125, 177]\n"
     ]
    }
   ],
   "source": [
    "ids_with_nulls = descriptions_df[descriptions_df['Description'].isnull()][\"id\"].tolist()\n",
    "print(f\"IDs with NaN values: {ids_with_nulls}\")"
   ]
  },
  {
   "cell_type": "code",
   "execution_count": 15,
   "metadata": {},
   "outputs": [
    {
     "name": "stdout",
     "output_type": "stream",
     "text": [
      "      id                                        Description\n",
      "111  111  Age: 37.0, Gender: Male, Education: Bachelor's...\n",
      "125  125  Age: 26.0, Gender: Male, Education: Bachelor's...\n",
      "177  177  Age: 31.0, Gender: Male, Education: Bachelor's...\n"
     ]
    }
   ],
   "source": [
    "for index, row in descriptions_df[descriptions_df['Description'].isnull()].iterrows():\n",
    "    person_id = row['id']\n",
    "    person_info = people_df.loc[people_df[\"id\"] == person_id].values[0]\n",
    "    \n",
    "    description = f\"Age: {person_info[1]}, Gender: {person_info[2]}, Education: {person_info[3]}, Job Title: {person_info[4]}, Experience: {person_info[5]} years\"\n",
    "    descriptions_df.loc[descriptions_df[\"id\"] == person_id, \"Description\"] = description\n",
    "\n",
    "# Let's check the new descriptions\n",
    "print(descriptions_df[descriptions_df[\"id\"].isin([111, 125, 177])])"
   ]
  },
  {
   "cell_type": "code",
   "execution_count": 16,
   "metadata": {},
   "outputs": [
    {
     "name": "stdout",
     "output_type": "stream",
     "text": [
      "0\n"
     ]
    }
   ],
   "source": [
    "#Lets check the duplicates again\n",
    "duplicates_desc = descriptions_df.duplicated(subset=descriptions_df.columns.difference([\"id\"]))\n",
    "num_duplicates = duplicates_desc.sum()\n",
    "print(num_duplicates)"
   ]
  },
  {
   "cell_type": "markdown",
   "metadata": {},
   "source": [
    "### 2- Treating NaNs\n",
    "\n",
    "Age NaNs"
   ]
  },
  {
   "cell_type": "code",
   "execution_count": 17,
   "metadata": {},
   "outputs": [
    {
     "data": {
      "text/html": [
       "<div>\n",
       "<style scoped>\n",
       "    .dataframe tbody tr th:only-of-type {\n",
       "        vertical-align: middle;\n",
       "    }\n",
       "\n",
       "    .dataframe tbody tr th {\n",
       "        vertical-align: top;\n",
       "    }\n",
       "\n",
       "    .dataframe thead th {\n",
       "        text-align: right;\n",
       "    }\n",
       "</style>\n",
       "<table border=\"1\" class=\"dataframe\">\n",
       "  <thead>\n",
       "    <tr style=\"text-align: right;\">\n",
       "      <th></th>\n",
       "      <th>id</th>\n",
       "      <th>Age</th>\n",
       "      <th>Gender</th>\n",
       "      <th>Education Level</th>\n",
       "      <th>Job Title</th>\n",
       "      <th>Years of Experience</th>\n",
       "    </tr>\n",
       "  </thead>\n",
       "  <tbody>\n",
       "    <tr>\n",
       "      <th>172</th>\n",
       "      <td>172</td>\n",
       "      <td>NaN</td>\n",
       "      <td>NaN</td>\n",
       "      <td>NaN</td>\n",
       "      <td>NaN</td>\n",
       "      <td>NaN</td>\n",
       "    </tr>\n",
       "    <tr>\n",
       "      <th>221</th>\n",
       "      <td>221</td>\n",
       "      <td>NaN</td>\n",
       "      <td>Female</td>\n",
       "      <td>Bachelor's</td>\n",
       "      <td>Junior Social Media Specialist</td>\n",
       "      <td>3.0</td>\n",
       "    </tr>\n",
       "    <tr>\n",
       "      <th>260</th>\n",
       "      <td>260</td>\n",
       "      <td>NaN</td>\n",
       "      <td>NaN</td>\n",
       "      <td>NaN</td>\n",
       "      <td>NaN</td>\n",
       "      <td>NaN</td>\n",
       "    </tr>\n",
       "    <tr>\n",
       "      <th>287</th>\n",
       "      <td>287</td>\n",
       "      <td>NaN</td>\n",
       "      <td>Female</td>\n",
       "      <td>Bachelor's</td>\n",
       "      <td>Senior Marketing Analyst</td>\n",
       "      <td>8.0</td>\n",
       "    </tr>\n",
       "    <tr>\n",
       "      <th>315</th>\n",
       "      <td>315</td>\n",
       "      <td>NaN</td>\n",
       "      <td>Male</td>\n",
       "      <td>Bachelor's</td>\n",
       "      <td>Senior Software Engineer</td>\n",
       "      <td>13.0</td>\n",
       "    </tr>\n",
       "  </tbody>\n",
       "</table>\n",
       "</div>"
      ],
      "text/plain": [
       "      id  Age  Gender Education Level                       Job Title  \\\n",
       "172  172  NaN     NaN             NaN                             NaN   \n",
       "221  221  NaN  Female      Bachelor's  Junior Social Media Specialist   \n",
       "260  260  NaN     NaN             NaN                             NaN   \n",
       "287  287  NaN  Female      Bachelor's        Senior Marketing Analyst   \n",
       "315  315  NaN    Male      Bachelor's        Senior Software Engineer   \n",
       "\n",
       "     Years of Experience  \n",
       "172                  NaN  \n",
       "221                  3.0  \n",
       "260                  NaN  \n",
       "287                  8.0  \n",
       "315                 13.0  "
      ]
     },
     "execution_count": 17,
     "metadata": {},
     "output_type": "execute_result"
    }
   ],
   "source": [
    "people_df[people_df['Age'].isnull()]"
   ]
  },
  {
   "cell_type": "code",
   "execution_count": 18,
   "metadata": {},
   "outputs": [
    {
     "name": "stdout",
     "output_type": "stream",
     "text": [
      "As an employee, I bring a wealth of diverse experiences and a commitment to excellence in my professional endeavors. My journey has been shaped by a variety of roles and responsibilities, each contributing to my growth and expertise. I am dedicated to continuous learning and development, always seeking opportunities to enhance my skills and knowledge. My approach to work is characterized by a strong work ethic, attention to detail, and a passion for achieving results. I believe in the power of collaboration and communication, and I am always eager to contribute to a positive and productive work environment.\n",
      "As an employee, I bring a unique blend of skills and experiences to the table. My journey has equipped me with a diverse set of abilities and a deep understanding of my field. I am committed to continuous learning and professional growth, always striving to stay updated with the latest trends and advancements. My approach to work is characterized by dedication, attention to detail, and a strong sense of responsibility. I believe in the power of teamwork and collaboration, and I am always ready to contribute to the success of my team and organization. My ability to adapt to new challenges and environments has been a key factor in my professional development. I am passionate about what I do and take pride in delivering high-quality results. My goal is to make a positive impact through my work, and I am always looking for opportunities to innovate and improve processes. I am confident that my skills, experience, and enthusiasm make me a valuable asset to any team.\n"
     ]
    }
   ],
   "source": [
    "description_172 = descriptions_df.loc[descriptions_df[\"id\"] == 172, \"Description\"].values[0]\n",
    "description_260 = descriptions_df.loc[descriptions_df[\"id\"] == 260, \"Description\"].values[0]\n",
    "print(description_172)\n",
    "print(description_260)"
   ]
  },
  {
   "cell_type": "markdown",
   "metadata": {},
   "source": [
    "In row 172 and 260, the description does not provide important data to fill in the missing data, so we decided to delete them."
   ]
  },
  {
   "cell_type": "code",
   "execution_count": 19,
   "metadata": {},
   "outputs": [],
   "source": [
    "ids_to_delete = [172, 260]\n",
    "\n",
    "people_df = people_df[~people_df[\"id\"].isin(ids_to_delete)]\n",
    "descriptions_df = descriptions_df[~descriptions_df[\"id\"].isin(ids_to_delete)]\n",
    "salary_df = salary_df[~salary_df[\"id\"].isin(ids_to_delete)]\n"
   ]
  },
  {
   "cell_type": "markdown",
   "metadata": {},
   "source": [
    "For the other persons we fill in the “Age” NaNs with the average age calculated from the other records with the same number of years of experience and the same level of education:"
   ]
  },
  {
   "cell_type": "code",
   "execution_count": 20,
   "metadata": {},
   "outputs": [
    {
     "name": "stdout",
     "output_type": "stream",
     "text": [
      "0\n"
     ]
    }
   ],
   "source": [
    "mean_age = people_df[(people_df[\"Years of Experience\"] == 3) & (people_df[\"Education Level\"] == \"Bachelor's\")][\"Age\"].mean()\n",
    "people_df[\"Age\"] = people_df[\"Age\"].fillna(mean_age)\n",
    "\n",
    "print(people_df[\"Age\"].isna().sum())  "
   ]
  },
  {
   "cell_type": "markdown",
   "metadata": {},
   "source": [
    "Genders NaNs"
   ]
  },
  {
   "cell_type": "code",
   "execution_count": 21,
   "metadata": {},
   "outputs": [
    {
     "name": "stdout",
     "output_type": "stream",
     "text": [
      "id                     0\n",
      "Age                    0\n",
      "Gender                 3\n",
      "Education Level        3\n",
      "Job Title              3\n",
      "Years of Experience    0\n",
      "dtype: int64\n"
     ]
    }
   ],
   "source": [
    "print(people_df.isnull().sum())"
   ]
  },
  {
   "cell_type": "markdown",
   "metadata": {},
   "source": [
    "We can see that only gender is missing so we went to check that info in their descriptions:"
   ]
  },
  {
   "cell_type": "code",
   "execution_count": 22,
   "metadata": {},
   "outputs": [
    {
     "name": "stdout",
     "output_type": "stream",
     "text": [
      "      id   Age Gender Education Level                    Job Title  \\\n",
      "219  219  40.0    NaN      Bachelor's  Senior Sales Representative   \n",
      "225  225  40.0    NaN      Bachelor's     Senior Marketing Manager   \n",
      "235  235  32.0    NaN      Bachelor's  Junior Sales Representative   \n",
      "\n",
      "     Years of Experience  \n",
      "219                 12.0  \n",
      "225                 11.0  \n",
      "235                  3.0  \n",
      "I am a 40-year-old Senior Sales Representative with a Bachelor's degree and 12 years of experience in the sales industry. I specialize in building strong client relationships, identifying market opportunities, and driving revenue growth. My extensive background has equipped me with a deep understanding of sales strategies and customer needs. In my current role, I manage a diverse portfolio of clients, develop and implement sales plans, and mentor junior team members. I am dedicated, results-oriented, and committed to continuous learning and professional development to stay current with industry trends and best practices.\n",
      "I am a 40-year-old Senior Marketing Manager with a Bachelor's degree and over 11 years of experience in the marketing field. My expertise includes strategic planning, brand management, and digital marketing. I excel in analyzing market trends, understanding consumer behavior, and creating innovative strategies that deliver results. In my role, I oversee the marketing department, develop and execute marketing plans, and ensure our campaigns align with company goals. I thrive in fast-paced environments and enjoy collaborating with cross-functional teams. My leadership style is inclusive and supportive, empowering my team to reach their full potential.\n",
      "As a 32-year-old Junior Sales Representative with a Bachelor's degree, I have three years of experience in the sales industry. My role involves identifying potential clients, building relationships, and closing sales to meet company targets. I excel in effective communication, persuasion, and negotiation, interacting with clients both in person and over the phone. I am passionate about sales and continuously seek to improve my skills and knowledge. My goal is to advance to a senior sales position, taking on more responsibilities and contributing to my team's success.\n"
     ]
    }
   ],
   "source": [
    "print(people_df[people_df['Gender'].isnull()])\n",
    "\n",
    "description_219 = descriptions_df.loc[descriptions_df[\"id\"] == 219, \"Description\"].values[0]\n",
    "description_225 = descriptions_df.loc[descriptions_df[\"id\"] == 225, \"Description\"].values[0]\n",
    "description_235 = descriptions_df.loc[descriptions_df[\"id\"] == 235, \"Description\"].values[0]\n",
    "print(description_219)\n",
    "print(description_225)\n",
    "print(description_235)"
   ]
  },
  {
   "cell_type": "markdown",
   "metadata": {},
   "source": [
    "There is no information on gender, so we randomly choose male o female:"
   ]
  },
  {
   "cell_type": "code",
   "execution_count": 23,
   "metadata": {},
   "outputs": [
    {
     "name": "stdout",
     "output_type": "stream",
     "text": [
      "0\n"
     ]
    }
   ],
   "source": [
    "nan_indices = people_df[people_df[\"Gender\"].isna()].index\n",
    "people_df.loc[nan_indices, \"Gender\"] = np.random.choice([\"Male\", \"Female\"], size=len(nan_indices))\n",
    "\n",
    "print(people_df[\"Gender\"].isna().sum())  "
   ]
  },
  {
   "cell_type": "markdown",
   "metadata": {},
   "source": [
    "Education NaNs\n",
    "\n",
    "The education level is missing out so we went to the description dataset for information:"
   ]
  },
  {
   "cell_type": "code",
   "execution_count": 24,
   "metadata": {},
   "outputs": [
    {
     "name": "stdout",
     "output_type": "stream",
     "text": [
      "      id   Age  Gender Education Level                         Job Title  \\\n",
      "139  139  43.0  Female             NaN  Senior Product Marketing Manager   \n",
      "261  261  37.0  Female             NaN          Senior Financial Manager   \n",
      "366  366  31.0  Female             NaN          Junior Financial Analyst   \n",
      "\n",
      "     Years of Experience  \n",
      "139                 14.0  \n",
      "261                 10.0  \n",
      "366                  3.0  \n",
      "I am a 43-year-old Senior Product Marketing Manager with a Master's degree and 14 years of experience. I specialize in developing and executing marketing strategies that drive product success and customer engagement. My role involves collaborating with product development, sales, and creative teams to ensure our products exceed market expectations. I excel at translating complex technical features into clear, customer-centric messaging. My career has equipped me with a deep understanding of both strategic and tactical aspects of product marketing. I am passionate about mentoring junior team members and fostering a collaborative work culture.\n",
      "I am a 37-year-old Senior Financial Manager with a Bachelor's degree and a decade of experience in the financial sector. My expertise lies in financial planning, analysis, and strategy. I have a strong track record of helping companies streamline financial processes, optimize budgets, and achieve financial goals. My responsibilities include overseeing financial reports, conducting risk assessments, and providing strategic advice to senior management. I am skilled at analyzing complex financial data and translating it into actionable insights that drive business growth. I am committed to continuous learning and fostering an inclusive work environment.\n",
      "I am a 31-year-old female working as a Junior Financial Analyst with a Bachelor's degree. With three years of experience in the financial sector, I excel in preparing financial reports, analyzing data to identify trends, and providing insights to support decision-making processes. My strong analytical skills and attention to detail help improve the financial health of the organization. I am passionate about finance, committed to professional growth, and continuously seek to enhance my expertise through professional development and staying current with industry best practices.\n"
     ]
    }
   ],
   "source": [
    "print(people_df[people_df['Education Level'].isnull()])\n",
    "\n",
    "description_139 = descriptions_df.loc[descriptions_df[\"id\"] == 139, \"Description\"].values[0]\n",
    "description_261 = descriptions_df.loc[descriptions_df[\"id\"] == 261, \"Description\"].values[0]\n",
    "description_366 = descriptions_df.loc[descriptions_df[\"id\"] == 366, \"Description\"].values[0]\n",
    "print(description_139)\n",
    "print(description_261)\n",
    "print(description_366)\n"
   ]
  },
  {
   "cell_type": "markdown",
   "metadata": {},
   "source": [
    "We fill the NaNs manually with the information provided in their descriptions:"
   ]
  },
  {
   "cell_type": "code",
   "execution_count": 25,
   "metadata": {},
   "outputs": [
    {
     "name": "stdout",
     "output_type": "stream",
     "text": [
      "0\n"
     ]
    }
   ],
   "source": [
    "people_df.loc[people_df[\"id\"] == 139, \"Education Level\"] = \"Master's\"\n",
    "people_df.loc[people_df[\"id\"] == 261, \"Education Level\"] = \"Bachelor's\"\n",
    "people_df.loc[people_df[\"id\"] == 366, \"Education Level\"] = \"Bachelor's\"\n",
    "\n",
    "print(people_df['Education Level'].isnull().sum())"
   ]
  },
  {
   "cell_type": "markdown",
   "metadata": {},
   "source": [
    "Job Title \n",
    "\n",
    "The same with Job Title, we fill the NaNs manually with the information provided in the description dataset:"
   ]
  },
  {
   "cell_type": "code",
   "execution_count": 26,
   "metadata": {},
   "outputs": [
    {
     "name": "stdout",
     "output_type": "stream",
     "text": [
      "      id   Age  Gender Education Level Job Title  Years of Experience\n",
      "51    51  33.0    Male        Master's       NaN                  7.0\n",
      "60    60  51.0  Female        Master's       NaN                 23.0\n",
      "332  332  45.0  Female             PhD       NaN                 16.0\n",
      "I am a 33-year-old Business Intelligence Analyst with a Master's degree and seven years of experience in the field. My expertise lies in turning data into actionable insights to drive strategic decision-making. I am proficient in various BI tools and technologies, including SQL, Tableau, and Power BI. My role involves analyzing complex datasets, identifying trends, and providing key stakeholders with the information they need to make informed business decisions. I am committed to continuous learning and staying updated with the latest industry trends and advancements, leveraging my skills to contribute to the success of my organization.\n",
      "I am a 51-year-old female with a Master's degree, currently serving as the Director of Operations. With 23 years of industry experience, I effectively manage and oversee our organization's operational aspects. My extensive background equips me with the knowledge to drive efficiency, streamline processes, and foster a productive work environment. My role involves strategic planning, resource allocation, and ensuring alignment with company goals. I thrive on challenges, leading teams, solving complex problems, and implementing innovative solutions to enhance our operations. My journey is marked by continuous learning, professional development, and a commitment to excellence in operational management.\n",
      "I am a 45-year-old Senior UX Designer with a PhD and 16 years of experience in the field. My career has focused on creating user-centered designs that enhance overall user experience. I have collaborated with cross-functional teams to bring innovative design solutions to life, specializing in user research, wireframing, prototyping, and usability testing. My advanced education in human-computer interaction and cognitive psychology allows me to tackle complex design problems and develop intuitive, aesthetically pleasing interfaces. In my current role, I lead design projects, mentor junior designers, and stay updated with industry trends and technologies.\n",
      "NaNs en Job Title: 0\n"
     ]
    }
   ],
   "source": [
    "print(people_df[people_df['Job Title'].isnull()])\n",
    "description_51 = descriptions_df.loc[descriptions_df[\"id\"] == 51, \"Description\"].values[0]\n",
    "description_60 = descriptions_df.loc[descriptions_df[\"id\"] == 60, \"Description\"].values[0]\n",
    "description_332 = descriptions_df.loc[descriptions_df[\"id\"] == 332, \"Description\"].values[0]\n",
    "print(description_51)\n",
    "print(description_60)\n",
    "print(description_332)\n",
    "\n",
    "people_df.loc[people_df[\"id\"] == 51, \"Job Title\"] = \"Business Intelligence Analyst\"\n",
    "people_df.loc[people_df[\"id\"] == 60, \"Job Title\"] = \"Director of Operations\"\n",
    "people_df.loc[people_df[\"id\"] == 332, \"Job Title\"] = \"Senior UX Designer\"\n",
    "\n",
    "print(\"NaNs en Job Title:\", people_df['Job Title'].isnull().sum())"
   ]
  },
  {
   "cell_type": "markdown",
   "metadata": {},
   "source": [
    "### 3- Checking NaNs"
   ]
  },
  {
   "cell_type": "code",
   "execution_count": 27,
   "metadata": {},
   "outputs": [
    {
     "data": {
      "text/plain": [
       "id                     0\n",
       "Age                    0\n",
       "Gender                 0\n",
       "Education Level        0\n",
       "Job Title              0\n",
       "Years of Experience    0\n",
       "dtype: int64"
      ]
     },
     "execution_count": 27,
     "metadata": {},
     "output_type": "execute_result"
    }
   ],
   "source": [
    "people_df.isnull().sum()"
   ]
  },
  {
   "cell_type": "code",
   "execution_count": 28,
   "metadata": {},
   "outputs": [
    {
     "data": {
      "text/plain": [
       "id             0\n",
       "Description    0\n",
       "dtype: int64"
      ]
     },
     "execution_count": 28,
     "metadata": {},
     "output_type": "execute_result"
    }
   ],
   "source": [
    "descriptions_df.isnull().sum()"
   ]
  },
  {
   "cell_type": "code",
   "execution_count": 29,
   "metadata": {},
   "outputs": [
    {
     "data": {
      "text/plain": [
       "id        0\n",
       "Salary    0\n",
       "dtype: int64"
      ]
     },
     "execution_count": 29,
     "metadata": {},
     "output_type": "execute_result"
    }
   ],
   "source": [
    "salary_df.isnull().sum()"
   ]
  },
  {
   "cell_type": "code",
   "execution_count": 30,
   "metadata": {},
   "outputs": [
    {
     "name": "stdout",
     "output_type": "stream",
     "text": [
      "--- SALARY DF ---\n",
      "<class 'pandas.core.frame.DataFrame'>\n",
      "Index: 373 entries, 0 to 374\n",
      "Data columns (total 2 columns):\n",
      " #   Column  Non-Null Count  Dtype  \n",
      "---  ------  --------------  -----  \n",
      " 0   id      373 non-null    int64  \n",
      " 1   Salary  373 non-null    float64\n",
      "dtypes: float64(1), int64(1)\n",
      "memory usage: 8.7 KB\n",
      "\n",
      "--- PEOPLE DF ---\n",
      "<class 'pandas.core.frame.DataFrame'>\n",
      "Index: 373 entries, 0 to 374\n",
      "Data columns (total 6 columns):\n",
      " #   Column               Non-Null Count  Dtype  \n",
      "---  ------               --------------  -----  \n",
      " 0   id                   373 non-null    int64  \n",
      " 1   Age                  373 non-null    int64  \n",
      " 2   Gender               373 non-null    object \n",
      " 3   Education Level      373 non-null    object \n",
      " 4   Job Title            373 non-null    object \n",
      " 5   Years of Experience  373 non-null    float64\n",
      "dtypes: float64(1), int64(2), object(3)\n",
      "memory usage: 28.5+ KB\n"
     ]
    }
   ],
   "source": [
    "print(\"--- SALARY DF ---\")\n",
    "salary_df.info()\n",
    "print(\"\\n--- PEOPLE DF ---\")\n",
    "people_df['Age'] = people_df['Age'].astype('int64')\n",
    "people_df.info()"
   ]
  },
  {
   "cell_type": "markdown",
   "metadata": {},
   "source": [
    "### 4- Outliers"
   ]
  },
  {
   "cell_type": "code",
   "execution_count": 31,
   "metadata": {},
   "outputs": [
    {
     "data": {
      "text/plain": [
       "0"
      ]
     },
     "execution_count": 31,
     "metadata": {},
     "output_type": "execute_result"
    }
   ],
   "source": [
    "Q1 = salary_df['Salary'].quantile(0.25)\n",
    "Q3 = salary_df['Salary'].quantile(0.75)\n",
    "IQR = Q3 - Q1\n",
    "\n",
    "lim_inf = Q1 - 1.5 * IQR\n",
    "lim_sup = Q3 + 1.5 * IQR\n",
    "\n",
    "outliers = salary_df[(salary_df['Salary'] < lim_inf) | (salary_df['Salary'] > lim_sup)]\n",
    "\n",
    "num_outliers = outliers.shape[0]\n",
    "num_outliers"
   ]
  },
  {
   "cell_type": "markdown",
   "metadata": {},
   "source": [
    "<hr></hr>\n",
    "\n",
    "## Exporting the data transformed\n"
   ]
  },
  {
   "cell_type": "code",
   "execution_count": 32,
   "metadata": {},
   "outputs": [],
   "source": [
    "merged_df = pd.merge(people_df,salary_df, on=\"id\", how=\"inner\")\n",
    "#merged_df.to_csv(\"DataTransformed.csv\", index=False)"
   ]
  },
  {
   "cell_type": "code",
   "execution_count": 33,
   "metadata": {},
   "outputs": [
    {
     "data": {
      "text/html": [
       "<div>\n",
       "<style scoped>\n",
       "    .dataframe tbody tr th:only-of-type {\n",
       "        vertical-align: middle;\n",
       "    }\n",
       "\n",
       "    .dataframe tbody tr th {\n",
       "        vertical-align: top;\n",
       "    }\n",
       "\n",
       "    .dataframe thead th {\n",
       "        text-align: right;\n",
       "    }\n",
       "</style>\n",
       "<table border=\"1\" class=\"dataframe\">\n",
       "  <thead>\n",
       "    <tr style=\"text-align: right;\">\n",
       "      <th></th>\n",
       "      <th>id</th>\n",
       "      <th>Age</th>\n",
       "      <th>Gender</th>\n",
       "      <th>Education Level</th>\n",
       "      <th>Job Title</th>\n",
       "      <th>Years of Experience</th>\n",
       "      <th>Salary</th>\n",
       "    </tr>\n",
       "  </thead>\n",
       "  <tbody>\n",
       "    <tr>\n",
       "      <th>0</th>\n",
       "      <td>0</td>\n",
       "      <td>32</td>\n",
       "      <td>Male</td>\n",
       "      <td>Bachelor's</td>\n",
       "      <td>Software Engineer</td>\n",
       "      <td>5.0</td>\n",
       "      <td>90000.0</td>\n",
       "    </tr>\n",
       "    <tr>\n",
       "      <th>1</th>\n",
       "      <td>1</td>\n",
       "      <td>28</td>\n",
       "      <td>Female</td>\n",
       "      <td>Master's</td>\n",
       "      <td>Data Analyst</td>\n",
       "      <td>3.0</td>\n",
       "      <td>65000.0</td>\n",
       "    </tr>\n",
       "    <tr>\n",
       "      <th>2</th>\n",
       "      <td>2</td>\n",
       "      <td>45</td>\n",
       "      <td>Male</td>\n",
       "      <td>PhD</td>\n",
       "      <td>Senior Manager</td>\n",
       "      <td>15.0</td>\n",
       "      <td>150000.0</td>\n",
       "    </tr>\n",
       "    <tr>\n",
       "      <th>3</th>\n",
       "      <td>3</td>\n",
       "      <td>36</td>\n",
       "      <td>Female</td>\n",
       "      <td>Bachelor's</td>\n",
       "      <td>Sales Associate</td>\n",
       "      <td>7.0</td>\n",
       "      <td>60000.0</td>\n",
       "    </tr>\n",
       "    <tr>\n",
       "      <th>4</th>\n",
       "      <td>4</td>\n",
       "      <td>52</td>\n",
       "      <td>Male</td>\n",
       "      <td>Master's</td>\n",
       "      <td>Director</td>\n",
       "      <td>20.0</td>\n",
       "      <td>200000.0</td>\n",
       "    </tr>\n",
       "    <tr>\n",
       "      <th>5</th>\n",
       "      <td>5</td>\n",
       "      <td>29</td>\n",
       "      <td>Male</td>\n",
       "      <td>Bachelor's</td>\n",
       "      <td>Marketing Analyst</td>\n",
       "      <td>2.0</td>\n",
       "      <td>55000.0</td>\n",
       "    </tr>\n",
       "    <tr>\n",
       "      <th>6</th>\n",
       "      <td>6</td>\n",
       "      <td>42</td>\n",
       "      <td>Female</td>\n",
       "      <td>Master's</td>\n",
       "      <td>Product Manager</td>\n",
       "      <td>12.0</td>\n",
       "      <td>120000.0</td>\n",
       "    </tr>\n",
       "    <tr>\n",
       "      <th>7</th>\n",
       "      <td>7</td>\n",
       "      <td>31</td>\n",
       "      <td>Male</td>\n",
       "      <td>Bachelor's</td>\n",
       "      <td>Sales Manager</td>\n",
       "      <td>4.0</td>\n",
       "      <td>80000.0</td>\n",
       "    </tr>\n",
       "    <tr>\n",
       "      <th>8</th>\n",
       "      <td>8</td>\n",
       "      <td>26</td>\n",
       "      <td>Female</td>\n",
       "      <td>Bachelor's</td>\n",
       "      <td>Marketing Coordinator</td>\n",
       "      <td>1.0</td>\n",
       "      <td>45000.0</td>\n",
       "    </tr>\n",
       "    <tr>\n",
       "      <th>9</th>\n",
       "      <td>9</td>\n",
       "      <td>38</td>\n",
       "      <td>Male</td>\n",
       "      <td>PhD</td>\n",
       "      <td>Senior Scientist</td>\n",
       "      <td>10.0</td>\n",
       "      <td>110000.0</td>\n",
       "    </tr>\n",
       "  </tbody>\n",
       "</table>\n",
       "</div>"
      ],
      "text/plain": [
       "   id  Age  Gender Education Level              Job Title  \\\n",
       "0   0   32    Male      Bachelor's      Software Engineer   \n",
       "1   1   28  Female        Master's           Data Analyst   \n",
       "2   2   45    Male             PhD         Senior Manager   \n",
       "3   3   36  Female      Bachelor's        Sales Associate   \n",
       "4   4   52    Male        Master's               Director   \n",
       "5   5   29    Male      Bachelor's      Marketing Analyst   \n",
       "6   6   42  Female        Master's        Product Manager   \n",
       "7   7   31    Male      Bachelor's          Sales Manager   \n",
       "8   8   26  Female      Bachelor's  Marketing Coordinator   \n",
       "9   9   38    Male             PhD       Senior Scientist   \n",
       "\n",
       "   Years of Experience    Salary  \n",
       "0                  5.0   90000.0  \n",
       "1                  3.0   65000.0  \n",
       "2                 15.0  150000.0  \n",
       "3                  7.0   60000.0  \n",
       "4                 20.0  200000.0  \n",
       "5                  2.0   55000.0  \n",
       "6                 12.0  120000.0  \n",
       "7                  4.0   80000.0  \n",
       "8                  1.0   45000.0  \n",
       "9                 10.0  110000.0  "
      ]
     },
     "execution_count": 33,
     "metadata": {},
     "output_type": "execute_result"
    }
   ],
   "source": [
    "merged_df.head(10)"
   ]
  },
  {
   "cell_type": "markdown",
   "metadata": {},
   "source": [
    "<hr></hr>\n",
    "\n",
    "## Visualization & Correlation"
   ]
  },
  {
   "cell_type": "code",
   "execution_count": 34,
   "metadata": {},
   "outputs": [
    {
     "data": {
      "text/html": [
       "<div>\n",
       "<style scoped>\n",
       "    .dataframe tbody tr th:only-of-type {\n",
       "        vertical-align: middle;\n",
       "    }\n",
       "\n",
       "    .dataframe tbody tr th {\n",
       "        vertical-align: top;\n",
       "    }\n",
       "\n",
       "    .dataframe thead th {\n",
       "        text-align: right;\n",
       "    }\n",
       "</style>\n",
       "<table border=\"1\" class=\"dataframe\">\n",
       "  <thead>\n",
       "    <tr style=\"text-align: right;\">\n",
       "      <th></th>\n",
       "      <th>id</th>\n",
       "      <th>Age</th>\n",
       "      <th>Years of Experience</th>\n",
       "      <th>Salary</th>\n",
       "    </tr>\n",
       "  </thead>\n",
       "  <tbody>\n",
       "    <tr>\n",
       "      <th>count</th>\n",
       "      <td>373.000000</td>\n",
       "      <td>373.000000</td>\n",
       "      <td>373.000000</td>\n",
       "      <td>373.000000</td>\n",
       "    </tr>\n",
       "    <tr>\n",
       "      <th>mean</th>\n",
       "      <td>186.844504</td>\n",
       "      <td>37.378016</td>\n",
       "      <td>10.030831</td>\n",
       "      <td>100577.345845</td>\n",
       "    </tr>\n",
       "    <tr>\n",
       "      <th>std</th>\n",
       "      <td>108.619601</td>\n",
       "      <td>7.083166</td>\n",
       "      <td>6.557007</td>\n",
       "      <td>48240.013482</td>\n",
       "    </tr>\n",
       "    <tr>\n",
       "      <th>min</th>\n",
       "      <td>0.000000</td>\n",
       "      <td>23.000000</td>\n",
       "      <td>0.000000</td>\n",
       "      <td>350.000000</td>\n",
       "    </tr>\n",
       "    <tr>\n",
       "      <th>25%</th>\n",
       "      <td>93.000000</td>\n",
       "      <td>31.000000</td>\n",
       "      <td>4.000000</td>\n",
       "      <td>55000.000000</td>\n",
       "    </tr>\n",
       "    <tr>\n",
       "      <th>50%</th>\n",
       "      <td>187.000000</td>\n",
       "      <td>36.000000</td>\n",
       "      <td>9.000000</td>\n",
       "      <td>95000.000000</td>\n",
       "    </tr>\n",
       "    <tr>\n",
       "      <th>75%</th>\n",
       "      <td>281.000000</td>\n",
       "      <td>44.000000</td>\n",
       "      <td>15.000000</td>\n",
       "      <td>140000.000000</td>\n",
       "    </tr>\n",
       "    <tr>\n",
       "      <th>max</th>\n",
       "      <td>374.000000</td>\n",
       "      <td>53.000000</td>\n",
       "      <td>25.000000</td>\n",
       "      <td>250000.000000</td>\n",
       "    </tr>\n",
       "  </tbody>\n",
       "</table>\n",
       "</div>"
      ],
      "text/plain": [
       "               id         Age  Years of Experience         Salary\n",
       "count  373.000000  373.000000           373.000000     373.000000\n",
       "mean   186.844504   37.378016            10.030831  100577.345845\n",
       "std    108.619601    7.083166             6.557007   48240.013482\n",
       "min      0.000000   23.000000             0.000000     350.000000\n",
       "25%     93.000000   31.000000             4.000000   55000.000000\n",
       "50%    187.000000   36.000000             9.000000   95000.000000\n",
       "75%    281.000000   44.000000            15.000000  140000.000000\n",
       "max    374.000000   53.000000            25.000000  250000.000000"
      ]
     },
     "execution_count": 34,
     "metadata": {},
     "output_type": "execute_result"
    }
   ],
   "source": [
    "merged_df.describe()"
   ]
  },
  {
   "cell_type": "markdown",
   "metadata": {},
   "source": [
    "### Relationships between features and target variable"
   ]
  },
  {
   "cell_type": "code",
   "execution_count": 35,
   "metadata": {},
   "outputs": [
    {
     "data": {
      "image/png": "[encoded data removed]",
      "text/plain": [
       "<Figure size 750x750 with 12 Axes>"
      ]
     },
     "metadata": {},
     "output_type": "display_data"
    }
   ],
   "source": [
    "numerical_data = merged_df[['Age', 'Years of Experience', 'Salary']]\n",
    "\n",
    "pairplot = sns.pairplot(numerical_data)\n",
    "pairplot.fig.suptitle(\"Relationships between features and target variable\", \n",
    "                      y=1.02, fontsize=16)\n",
    "\n",
    "plt.show()"
   ]
  },
  {
   "cell_type": "code",
   "execution_count": 36,
   "metadata": {},
   "outputs": [
    {
     "data": {
      "image/png": "[encoded data removed]",
      "text/plain": [
       "<Figure size 800x600 with 2 Axes>"
      ]
     },
     "metadata": {},
     "output_type": "display_data"
    }
   ],
   "source": [
    "corr_matrix = numerical_data.corr()\n",
    "\n",
    "plt.figure(figsize=(8, 6))\n",
    "sns.heatmap(corr_matrix, annot=True, cmap=\"coolwarm\", fmt=\".2f\", linewidths=0.5)\n",
    "plt.title(\"Correlation Matrix\")\n",
    "plt.show()"
   ]
  },
  {
   "cell_type": "markdown",
   "metadata": {},
   "source": [
    "There is a high correlation between \"Years of Experience\" and \"Age\", suggesting a possibly collinearity that may negatively affect our predictive model. Let's check the VIF:"
   ]
  },
  {
   "cell_type": "code",
   "execution_count": 37,
   "metadata": {},
   "outputs": [
    {
     "name": "stdout",
     "output_type": "stream",
     "text": [
      "              Variable       VIF\n",
      "0                  Age  6.666003\n",
      "1  Years of Experience  6.666003\n"
     ]
    }
   ],
   "source": [
    "from statsmodels.stats.outliers_influence import variance_inflation_factor\n",
    "from patsy import dmatrices\n",
    "\n",
    "data = numerical_data[['Age', 'Years of Experience']]\n",
    "\n",
    "vif_data = pd.DataFrame()\n",
    "vif_data['Variable'] = data.columns\n",
    "vif_data['VIF'] = [variance_inflation_factor(data.values, i) for i in range(data.shape[1])]\n",
    "\n",
    "print(vif_data)"
   ]
  },
  {
   "cell_type": "markdown",
   "metadata": {},
   "source": [
    "<b>The VIF is greater than 5, the explanatory variables are moderatly correlated.</b>"
   ]
  },
  {
   "cell_type": "code",
   "execution_count": 38,
   "metadata": {},
   "outputs": [
    {
     "data": {
      "image/png": "[encoded data removed]",
      "text/plain": [
       "<Figure size 800x600 with 1 Axes>"
      ]
     },
     "metadata": {},
     "output_type": "display_data"
    }
   ],
   "source": [
    "plt.figure(figsize=(8, 6))\n",
    "sns.boxplot(x='Gender', y='Salary', data=merged_df)\n",
    "plt.title('Salary Distribution by Gender')\n",
    "plt.show()"
   ]
  },
  {
   "cell_type": "code",
   "execution_count": 39,
   "metadata": {},
   "outputs": [
    {
     "data": {
      "image/png": "[encoded data removed]",
      "text/plain": [
       "<Figure size 1000x600 with 1 Axes>"
      ]
     },
     "metadata": {},
     "output_type": "display_data"
    }
   ],
   "source": [
    "plt.figure(figsize=(10, 6))\n",
    "sns.boxplot(x='Education Level', y='Salary', data=merged_df)\n",
    "plt.title('Salary Distribution by Education Level')\n",
    "plt.xticks(rotation=45)\n",
    "plt.show()"
   ]
  }
 ],
 "metadata": {
  "kernelspec": {
   "display_name": "Python 3",
   "language": "python",
   "name": "python3"
  },
  "language_info": {
   "codemirror_mode": {
    "name": "ipython",
    "version": 3
   },
   "file_extension": ".py",
   "mimetype": "text/x-python",
   "name": "python",
   "nbconvert_exporter": "python",
   "pygments_lexer": "ipython3",
   "version": "3.10.5"
  }
 },
 "nbformat": 4,
 "nbformat_minor": 2
}
