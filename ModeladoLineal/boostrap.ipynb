{
 "cells": [
  {
   "cell_type": "code",
   "execution_count": 1,
   "metadata": {},
   "outputs": [],
   "source": [
    "import numpy as np\n",
    "import scipy.stats as stats\n",
    "from sklearn.utils import resample\n",
    "from sklearn.metrics import mean_squared_error, r2_score"
   ]
  },
  {
   "cell_type": "code",
   "execution_count": 2,
   "metadata": {},
   "outputs": [],
   "source": [
    "def bootstrap_metrics(model, X_train, y_train, X_test, y_test, n_iterations=200):\n",
    "    mse_scores = []\n",
    "    r2_scores = []\n",
    "    \n",
    "    for _ in range(n_iterations):\n",
    "        #Generating bootstrap samples\n",
    "        X_resampled, y_resampled = resample(X_train, y_train, random_state=42)\n",
    "        \n",
    "        # fitting the modeal for each generated sample\n",
    "        model.fit(X_resampled, y_resampled)\n",
    "        \n",
    "        # predicting\n",
    "        y_pred_resampled = model.predict(X_test)\n",
    "        \n",
    "        # calculating metrics\n",
    "        mse_scores.append(mean_squared_error(y_test, y_pred_resampled))\n",
    "        r2_scores.append(r2_score(y_test, y_pred_resampled))\n",
    "    \n",
    "    #Then we calculate the 95% CI\n",
    "    mse_lower = np.percentile(mse_scores, 2.5)\n",
    "    mse_upper = np.percentile(mse_scores, 97.5)\n",
    "    \n",
    "    r2_lower = np.percentile(r2_scores, 2.5)\n",
    "    r2_upper = np.percentile(r2_scores, 97.5)\n",
    "    \n",
    "    return (mse_lower, mse_upper), (r2_lower, r2_upper)"
   ]
  },
  {
   "cell_type": "code",
   "execution_count": 3,
   "metadata": {},
   "outputs": [],
   "source": [
    "import matplotlib.pyplot as plt\n",
    "import seaborn as sns\n",
    "\n",
    "def plot_bootstrap_distribution(mse_scores, r2_scores):\n",
    "    # Crear subgráficos para visualizar las distribuciones de MSE y R²\n",
    "    fig, ax = plt.subplots(1, 2, figsize=(14, 6))\n",
    "    \n",
    "    # MSE Histogram\n",
    "    sns.histplot(mse_scores, kde=True, ax=ax[0], color=\"blue\", bins=30)\n",
    "    ax[0].set_title('Bootstrap Distribution of MSE')\n",
    "    ax[0].set_xlabel('Mean Squared Error (MSE)')\n",
    "    ax[0].set_ylabel('Frequency')\n",
    "    \n",
    "    # R2 Histogram\n",
    "    sns.histplot(r2_scores, kde=True, ax=ax[1], color=\"green\", bins=30)\n",
    "    ax[1].set_title('Bootstrap Distribution of R²')\n",
    "    ax[1].set_xlabel('R-squared (R²)')\n",
    "    ax[1].set_ylabel('Frequency')\n",
    "    \n",
    "    # Mostrar el gráfico\n",
    "    plt.tight_layout()\n",
    "    plt.show()"
   ]
  },
  {
   "cell_type": "code",
   "execution_count": 11,
   "metadata": {},
   "outputs": [
    {
     "ename": "AttributeError",
     "evalue": "module 'model' has no attribute 'fit'",
     "output_type": "error",
     "traceback": [
      "\u001b[1;31m---------------------------------------------------------------------------\u001b[0m",
      "\u001b[1;31mAttributeError\u001b[0m                            Traceback (most recent call last)",
      "Cell \u001b[1;32mIn[11], line 12\u001b[0m\n\u001b[0;32m      9\u001b[0m \u001b[38;5;28;01mfor\u001b[39;00m _ \u001b[38;5;129;01min\u001b[39;00m \u001b[38;5;28mrange\u001b[39m(\u001b[38;5;241m200\u001b[39m):\n\u001b[0;32m     10\u001b[0m     \u001b[38;5;66;03m# Calcular bootstrap\u001b[39;00m\n\u001b[0;32m     11\u001b[0m     X_resampled, y_resampled \u001b[38;5;241m=\u001b[39m resample(X_train, y_train, random_state\u001b[38;5;241m=\u001b[39m\u001b[38;5;241m42\u001b[39m)\n\u001b[1;32m---> 12\u001b[0m     \u001b[43mmodel\u001b[49m\u001b[38;5;241;43m.\u001b[39;49m\u001b[43mfit\u001b[49m(X_resampled, y_resampled)\n\u001b[0;32m     13\u001b[0m     y_pred_resampled \u001b[38;5;241m=\u001b[39m model\u001b[38;5;241m.\u001b[39mpredict(X_test)\n\u001b[0;32m     14\u001b[0m     mse_scores\u001b[38;5;241m.\u001b[39mappend(mean_squared_error(y_test, y_pred_resampled))\n",
      "\u001b[1;31mAttributeError\u001b[0m: module 'model' has no attribute 'fit'"
     ]
    }
   ],
   "source": [
    "import preprocessing\n",
    "import my_model\n",
    "import bootstrap\n",
    "# Load and preprocess the data\n",
    "X_train, X_test, y_train, y_test = preprocessing.load_and_preprocess_data('../data/DataTransformed.csv')\n",
    "# Calcular las métricas con bootstrap\n",
    "mse_scores = []\n",
    "r2_scores = []\n",
    "for _ in range(200):\n",
    "    # Calcular bootstrap\n",
    "    X_resampled, y_resampled = resample(X_train, y_train, random_state=42)\n",
    "    model.fit(X_resampled, y_resampled)\n",
    "    y_pred_resampled = model.predict(X_test)\n",
    "    mse_scores.append(mean_squared_error(y_test, y_pred_resampled))\n",
    "    r2_scores.append(r2_score(y_test, y_pred_resampled))\n",
    "\n",
    "# Visualizar las distribuciones\n",
    "plot_bootstrap_distribution(mse_scores, r2_scores)"
   ]
  }
 ],
 "metadata": {
  "kernelspec": {
   "display_name": "Python 3",
   "language": "python",
   "name": "python3"
  },
  "language_info": {
   "codemirror_mode": {
    "name": "ipython",
    "version": 3
   },
   "file_extension": ".py",
   "mimetype": "text/x-python",
   "name": "python",
   "nbconvert_exporter": "python",
   "pygments_lexer": "ipython3",
   "version": "3.10.5"
  }
 },
 "nbformat": 4,
 "nbformat_minor": 2
}
